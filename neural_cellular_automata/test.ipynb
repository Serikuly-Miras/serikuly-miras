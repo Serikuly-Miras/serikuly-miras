{
 "cells": [
  {
   "cell_type": "code",
   "execution_count": 4,
   "metadata": {},
   "outputs": [],
   "source": [
    "from NeuralCellularAutomata import NeuralCellularAutomata\n"
   ]
  },
  {
   "cell_type": "code",
   "execution_count": 5,
   "metadata": {},
   "outputs": [
    {
     "name": "stdout",
     "output_type": "stream",
     "text": [
      "[Taichi] Starting on arch=x64\n"
     ]
    }
   ],
   "source": [
    "nca = NeuralCellularAutomata(vp=(320, 180), scale_factor=1)\n"
   ]
  },
  {
   "cell_type": "code",
   "execution_count": 6,
   "metadata": {},
   "outputs": [
    {
     "name": "stdout",
     "output_type": "stream",
     "text": [
      "Frame 300/300 is recorded\n",
      "Exporting .gif ...\n",
      "GIF video is saved to ./results\\video.gif\n"
     ]
    }
   ],
   "source": [
    "nca.record(frames=1200, fps=120)\n"
   ]
  }
 ],
 "metadata": {
  "kernelspec": {
   "display_name": "Python 3",
   "language": "python",
   "name": "python3"
  },
  "language_info": {
   "codemirror_mode": {
    "name": "ipython",
    "version": 3
   },
   "file_extension": ".py",
   "mimetype": "text/x-python",
   "name": "python",
   "nbconvert_exporter": "python",
   "pygments_lexer": "ipython3",
   "version": "3.10.8"
  },
  "orig_nbformat": 4,
  "vscode": {
   "interpreter": {
    "hash": "5966b29fd4247268dbda01255e47a0c03dea57bcc1d7635cd359bce5b3966b84"
   }
  }
 },
 "nbformat": 4,
 "nbformat_minor": 2
}
